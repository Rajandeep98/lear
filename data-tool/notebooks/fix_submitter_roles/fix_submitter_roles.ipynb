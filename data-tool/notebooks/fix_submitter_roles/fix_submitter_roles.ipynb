{
 "cells": [
  {
   "cell_type": "markdown",
   "id": "e47113fe",
   "metadata": {},
   "source": [
    "# Fix submitter_roles for migrated staff filings script\n"
   ]
  },
  {
   "cell_type": "code",
   "execution_count": null,
   "id": "b1995cfc",
   "metadata": {},
   "outputs": [],
   "source": [
    "%pip install pandas\n",
    "%pip install sqlalchemy>=2.0\n",
    "%pip install dotenv"
   ]
  },
  {
   "cell_type": "markdown",
   "id": "4a84f43b",
   "metadata": {},
   "source": [
    "## Find Migrated group IDs"
   ]
  },
  {
   "cell_type": "code",
   "execution_count": null,
   "id": "d84bcb36",
   "metadata": {},
   "outputs": [],
   "source": [
    "import os\n",
    "import pandas as pd\n",
    "from sqlalchemy import create_engine, text\n",
    "from sqlalchemy.exc import SQLAlchemyError, OperationalError\n",
    "from dotenv import load_dotenv\n",
    "\n",
    "load_dotenv()\n",
    "\n",
    "MIG_GROUP_IDS = [int(x.strip()) for x in os.getenv('MIG_GROUP_IDS').split(',') if x.strip().isdigit()]\n",
    "if not MIG_GROUP_IDS:\n",
    "    raise ValueError(\"MIG_GROUP_IDS is empty! Need at least one group id.\")\n",
    "\n",
    "mig_group_ids = ','.join(str(x) for x in MIG_GROUP_IDS)\n",
    "print(\"Libraries imported and configuration loaded successfully.\")"
   ]
  },
  {
   "cell_type": "markdown",
   "id": "5ee2d83e",
   "metadata": {},
   "source": [
    "## Configure database connections"
   ]
  },
  {
   "cell_type": "code",
   "execution_count": null,
   "id": "6e5b191f",
   "metadata": {},
   "outputs": [],
   "source": [
    "DATABASE_CONFIG = {\n",
    "    'colin_extract': {\n",
    "        'username': os.getenv(\"DATABASE_COLIN_EXTRACT_USERNAME\"),\n",
    "        'password': os.getenv(\"DATABASE_COLIN_EXTRACT_PASSWORD\"),\n",
    "        'host': os.getenv(\"DATABASE_COLIN_EXTRACT_HOST\"),\n",
    "        'port': os.getenv(\"DATABASE_COLIN_EXTRACT_PORT\"),\n",
    "        'name': os.getenv(\"DATABASE_COLIN_EXTRACT_NAME\")\n",
    "    },\n",
    "    'lear': {\n",
    "        'username': os.getenv(\"DATABASE_LEAR_USERNAME\"),\n",
    "        'password': os.getenv(\"DATABASE_LEAR_PASSWORD\"),\n",
    "        'host': os.getenv(\"DATABASE_LEAR_HOST\"),\n",
    "        'port': os.getenv(\"DATABASE_LEAR_PORT\"),\n",
    "        'name': os.getenv(\"DATABASE_LEAR_NAME\")\n",
    "    }\n",
    "}\n",
    "\n",
    "for db_key, db_config in DATABASE_CONFIG.items():\n",
    "    uri = f\"postgresql://{db_config['username']}:{db_config['password']}@{db_config['host']}:{db_config['port']}/{db_config['name']}\"\n",
    "    DATABASE_CONFIG[db_key] = {'uri': uri}\n",
    "\n",
    "print(\"Database configurations successfully.\")"
   ]
  },
  {
   "cell_type": "code",
   "execution_count": null,
   "id": "50ca2cf3",
   "metadata": {},
   "outputs": [],
   "source": [
    "engines = {}\n",
    "\n",
    "for db_key, config in DATABASE_CONFIG.items():\n",
    "    try:\n",
    "        engine = create_engine(config['uri'])\n",
    "        \n",
    "        # Test connection\n",
    "        with engine.connect() as conn:\n",
    "            conn.execute(text(\"SELECT 1\"))\n",
    "        \n",
    "        engines[db_key] = engine\n",
    "        print(f\"{db_key.upper()} database engine created and tested successfully.\")\n",
    "\n",
    "    except OperationalError as e:\n",
    "        print(f\"{db_key.upper()} database connection failed: {e}\")\n",
    "        raise\n",
    "    except SQLAlchemyError as e:\n",
    "        print(f\"{db_key.upper()} database engine creation failed: {e}\")\n",
    "        raise\n",
    "    except Exception as e:\n",
    "        print(f\"{db_key.upper()} unexpected error: {e}\")\n",
    "        raise\n",
    "\n",
    "ENGINE_NAMES = {engine: key for key, engine in engines.items()}\n",
    "\n",
    "print(\"All database engines ready for use.\")"
   ]
  },
  {
   "cell_type": "markdown",
   "id": "8ace276b",
   "metadata": {},
   "source": [
    "## Find out migrated filings and their event_id\n",
    "- find out migrated corps\n",
    "- find out their filings (except lear_tombstone & hide_in_ledger = false)\n",
    "- Find out filing_id related event_id"
   ]
  },
  {
   "cell_type": "code",
   "execution_count": null,
   "id": "198b0107",
   "metadata": {},
   "outputs": [],
   "source": [
    "# Get migrated corps identifiers\n",
    "get_corps_query = f\"\"\"\n",
    "    SELECT DISTINCT mcb.corp_num \n",
    "    FROM mig_corp_batch mcb\n",
    "    JOIN mig_batch mb ON mcb.mig_batch_id = mb.id\n",
    "    WHERE mb.mig_group_id IN ({mig_group_ids})\n",
    "    ORDER BY mcb.corp_num\n",
    "\"\"\"\n",
    "\n",
    "corps_df = pd.read_sql(get_corps_query, engines['colin_extract'])\n",
    "corp_count = len(corps_df['corp_num'])\n",
    "identifiers_str = ','.join(f\"'{corp_num}'\" for corp_num in corps_df['corp_num'].astype(str))\n",
    "identifiers_str = f\"ARRAY[{identifiers_str}]\"\n",
    "print(f\"found total {corp_count} corps\")\n",
    "print(\"-\"*100)\n",
    "\n",
    "# Get migrated filings -> event ids\n",
    "get_filings_query = f\"\"\"\n",
    "SELECT \n",
    "    b.identifier,\n",
    "    f.id AS filing_id,\n",
    "    cei.colin_event_id AS event_id\n",
    "FROM businesses b\n",
    "JOIN filings f ON b.id = f.business_id\n",
    "JOIN colin_event_ids cei ON f.id = cei.filing_id\n",
    "WHERE b.identifier = ANY({identifiers_str})\n",
    "AND f.source = 'COLIN'\n",
    "\"\"\"\n",
    "\n",
    "event_id_df = pd.read_sql(get_filings_query, engines['lear'])\n",
    "event_id_count = len(event_id_df['event_id'])\n",
    "print(f\"found total {event_id_count} migrated filings / event_id\")\n",
    "event_id_str = ','.join(f\"{event_id}\" for event_id in event_id_df['event_id'].astype(str))\n",
    "event_id_str = f\"ARRAY[{event_id_str}]\"\n",
    "\n",
    "display(event_id_df)"
   ]
  },
  {
   "cell_type": "markdown",
   "id": "543b7fb2",
   "metadata": {},
   "source": [
    "## Fill in submitter_roles if it's staff\n",
    "- find out the submitter role for this event_id\n",
    "- fill these roles, if it's staff to the entries in the filings table"
   ]
  },
  {
   "cell_type": "code",
   "execution_count": null,
   "id": "fcfa9708",
   "metadata": {},
   "outputs": [],
   "source": [
    "# Find out staff filings with the given event_ids\n",
    "event_id_submitter_roles_query = f\"\"\"\n",
    "SELECT\n",
    "    event_id,\n",
    "    role_typ_cd\n",
    "FROM filing_user\n",
    "WHERE event_id = ANY({event_id_str})\n",
    "AND role_typ_cd = 'staff'\n",
    "\"\"\"\n",
    "\n",
    "event_id_submitter_roles_df = pd.read_sql(event_id_submitter_roles_query, engines['colin_extract'])\n",
    "print(f\"Get total {len(event_id_submitter_roles_df)} staff submitters for the given event_ids\")\n",
    "display(event_id_submitter_roles_df)\n",
    "print('-'*100)\n",
    "\n",
    "# Merge back to filings df\n",
    "filings_results_df = (event_id_df\n",
    "                      .merge(event_id_submitter_roles_df,\n",
    "                             on='event_id',\n",
    "                             how='left').query('role_typ_cd.notna()')\n",
    "                      )\n",
    "filings_results_df = filings_results_df[['event_id', 'filing_id', 'role_typ_cd']]\n",
    "\n",
    "if filings_results_df.empty:\n",
    "    print(\"No staff filings found to update. Exiting.\")\n",
    "    exit(0)\n",
    "\n",
    "print(f\"Found {len(filings_results_df)} staff filings to update\")\n",
    "print('-'*100)\n",
    "\n",
    "with pd.option_context('display.max_rows', None):\n",
    "    display(filings_results_df)"
   ]
  },
  {
   "cell_type": "markdown",
   "id": "42c0f840",
   "metadata": {},
   "source": [
    "### Populate found staff filing and role value to filings table"
   ]
  },
  {
   "cell_type": "code",
   "execution_count": null,
   "id": "519d6fb1",
   "metadata": {},
   "outputs": [],
   "source": [
    "# Prepare values for bulk insert\n",
    "values_list = []\n",
    "for _, row in filings_results_df.iterrows():\n",
    "    values_list.append(f\"({row['filing_id']}, '{row['role_typ_cd']}')\")\n",
    "\n",
    "values_str = ','.join(values_list)\n",
    "\n",
    "upsert_query = f\"\"\"\n",
    "    INSERT INTO filings (id, submitter_roles)\n",
    "    VALUES {values_str}\n",
    "    ON CONFLICT (id)\n",
    "    DO UPDATE SET submitter_roles = 'staff'\n",
    "\"\"\"\n",
    "try:\n",
    "    with engines['lear'].begin() as conn:\n",
    "        conn.execute(text(upsert_query))\n",
    "        print(\"Updating filings table completed\")\n",
    "\n",
    "except Exception as e:\n",
    "    print(f\"Error when updating filings table: {e}\")"
   ]
  }
 ],
 "metadata": {
  "kernelspec": {
   "display_name": "3.8.17",
   "language": "python",
   "name": "python3"
  },
  "language_info": {
   "codemirror_mode": {
    "name": "ipython",
    "version": 3
   },
   "file_extension": ".py",
   "mimetype": "text/x-python",
   "name": "python",
   "nbconvert_exporter": "python",
   "pygments_lexer": "ipython3",
   "version": "3.8.17"
  }
 },
 "nbformat": 4,
 "nbformat_minor": 5
}
